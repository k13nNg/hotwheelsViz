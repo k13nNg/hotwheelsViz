{
  "cells": [
    {
      "cell_type": "markdown",
      "metadata": {
        "id": "eALWtsDQiULw"
      },
      "source": [
        "This processed was done in Google COlb, so the path will be different"
      ]
    },
    {
      "cell_type": "markdown",
      "metadata": {
        "id": "ExjLhj-a7DY7"
      },
      "source": [
        "# Import necessary libraries"
      ]
    },
    {
      "cell_type": "code",
      "execution_count": 1,
      "metadata": {
        "id": "JEXVKdwQ617H"
      },
      "outputs": [],
      "source": [
        "import pandas as pd\n",
        "import re"
      ]
    },
    {
      "cell_type": "code",
      "execution_count": 2,
      "metadata": {
        "colab": {
          "base_uri": "https://localhost:8080/"
        },
        "id": "hDXANbOM7Ad_",
        "outputId": "fac56c2f-ed2f-46c9-932b-857f40b9513d"
      },
      "outputs": [
        {
          "name": "stdout",
          "output_type": "stream",
          "text": [
            "(24490, 7)\n"
          ]
        }
      ],
      "source": [
        "df = pd.read_csv(\"./rawPhase2.csv\")\n",
        "print(df.shape)"
      ]
    },
    {
      "cell_type": "markdown",
      "metadata": {
        "id": "qe3wEaNJ8OH2"
      },
      "source": [
        "# Process entries where the \"Country\" column is not the name of a country"
      ]
    },
    {
      "cell_type": "code",
      "execution_count": 3,
      "metadata": {
        "colab": {
          "base_uri": "https://localhost:8080/"
        },
        "id": "2Y98FbQJ7Qql",
        "outputId": "53fae047-9c62-4572-e1b3-73aff49aff2f"
      },
      "outputs": [
        {
          "name": "stdout",
          "output_type": "stream",
          "text": [
            "109\n",
            "-------------------------------\n",
            "USA\n",
            "Hong Kong\n",
            "Thailand\n",
            "China\n",
            "HK\n",
            "United States\n",
            "nan\n",
            "US\n",
            "Thailand China\n",
            "Malaysia\n",
            "U.S.A.\n",
            "Indonesia\n",
            "Italy\n",
            "France\n",
            "US/Mexico\n",
            "Mexico\n",
            "CoO scratched out\n",
            "French\n",
            "Hong Kong, US Patent\n",
            "USA?\n",
            "Thailand & Malaysia\n",
            "USA/Mexico\n",
            "USA / Mexico\n",
            "MEXICO\n",
            "Hong Kong/Mexico\n",
            "Hong Kong & Mexico\n",
            "Mexico & Hong Kong\n",
            "China or Thailand\n",
            "Malaysia (Boxed)\n",
            "India\n",
            "Thail&\n",
            "7286\n",
            "Came on a Clock Stand? (Check Gallery)\n",
            "China or Malaysia\n",
            "Malasyia\n",
            "Hong Kong or Malaysia\n",
            "Maylasia\n",
            "Malaysa\n",
            "Inda\n",
            "Hong Kong & Malaysia\n",
            "Thailand or China\n",
            "No Country on base\n",
            "?\n",
            "Malaysia or Hong Kong\n",
            "not on base\n",
            "Flat Malaysia\n",
            "Raised Malaysia\n",
            "China / Thailand\n",
            "unknown\n",
            "No Country\n",
            "Thailand / China\n",
            "Canada\n",
            "Thailand / Malaysia\n",
            "Hong Kong/Malaysia\n",
            "Malaysia or China\n",
            "China Malaysia\n",
            "Malaysia or Thailand\n",
            "Hong Kong or Malasya\n",
            "Thailand, Malaysia\n",
            "Malaysia, Thailand\n",
            "Malaysia, China\n",
            "Thailand/Malaysia\n",
            "Malaysia/Thailand\n",
            "Macau\n",
            "Malaysia (common) & China\n",
            "Malaysia, China or Thailand\n",
            "Dale Jarrett\n",
            "China Thailand\n",
            "Malaysia, China, Thailand\n",
            "China, Malaysia\n",
            "China/Thailand\n",
            "Some are marked Malaysia, some are not marked\n",
            "Malaysia/China\n",
            "Malaysia / Thailand\n",
            "65625\n",
            "Thailand or Malaysia\n",
            "Malaysia & China\n",
            "Malaysia, India\n",
            "Malasia\n",
            "Malaysia, Thailand, China\n",
            "China/Malaysia\n",
            "Malaysia, Thailand or China\n",
            "China, Thailand\n",
            "Thailand (painted or engraved on base)\n",
            "Thailand/China\n",
            "Vietnam\n",
            "Malasysia\n",
            "Mayalsia or Thailand\n",
            "B6502\n",
            "B6501\n",
            "B6494\n",
            "B6495\n",
            "Thailand Malaysia\n",
            "Malysia\n",
            "Malaysia or Indonesia\n",
            "Thailand or Indonesia\n",
            "Thailand / Indonesia\n",
            "Thailand/Indonesia\n",
            "Indonesia(?)\n",
            "Thailand Indonesia\n",
            "100.0\n",
            "[Malaysia\n",
            "Malaysia (circled)\n",
            "Indonesia, Malaysia\n",
            "JHW18\n",
            "JHW17\n",
            "JHW46\n",
            "JKD99\n",
            "JHW19\n"
          ]
        }
      ],
      "source": [
        "print(len(list(df[\"Country\"].unique())))\n",
        "print(\"-------------------------------\")\n",
        "for i in list(df[\"Country\"].unique()):\n",
        "  print(i)"
      ]
    },
    {
      "cell_type": "markdown",
      "metadata": {
        "id": "2z5yv2gTY4aN"
      },
      "source": [
        "# Guessed based on where the majority of this model is produced"
      ]
    },
    {
      "cell_type": "code",
      "execution_count": 4,
      "metadata": {
        "id": "kJQM-wYQUfSw"
      },
      "outputs": [],
      "source": [
        "df.loc[df[\"Country\"].isin([\"B6502\", \"B6501\", \"B6494\", \"B6495\"]), \"Country\"] = \"Thailand\""
      ]
    },
    {
      "cell_type": "markdown",
      "metadata": {
        "id": "zGBl7yC2ZADp"
      },
      "source": [
        "# Fill in `NaN`, `unknown` and `?` values with strings \"N/A\""
      ]
    },
    {
      "cell_type": "code",
      "execution_count": 5,
      "metadata": {
        "id": "NraEsO9mUhQu"
      },
      "outputs": [],
      "source": [
        "df[\"Country\"] = df[\"Country\"].fillna(\"N/A\")\n",
        "df.loc[df[\"Country\"].isin([\"?\", \"unknown\"]), \"Country\"] = \"N/A\""
      ]
    },
    {
      "cell_type": "markdown",
      "metadata": {
        "id": "Gf8WBXrxYvpk"
      },
      "source": [
        "# Handle 2026 data (`Toy number` and `Country` columns are mixed up)"
      ]
    },
    {
      "cell_type": "code",
      "execution_count": 6,
      "metadata": {
        "id": "EFw_vj02XQPP"
      },
      "outputs": [],
      "source": [
        "df.loc[df[\"Country\"].isin([\"JHW18\", \"JHW17\", \"JHW46\", \"JKD99\", \"JHW19\"]), \"Country\"] = \"Thailand\""
      ]
    },
    {
      "cell_type": "markdown",
      "metadata": {
        "id": "xSDgQoCKajXF"
      },
      "source": [
        "# Handle `'58 Corvette Coupe`, 1995 version\n",
        "This is a bit of a special case, the country entry is `\"Some are marked Malaysia, some are not marked\"`, we will assume all of them are produced in Malaysia in this case"
      ]
    },
    {
      "cell_type": "code",
      "execution_count": 7,
      "metadata": {
        "id": "pF3b47cXYM02"
      },
      "outputs": [],
      "source": [
        "df.loc[df[\"Country\"] == \"Some are marked Malaysia, some are not marked\", \"Country\"]= \"Malaysia\""
      ]
    },
    {
      "cell_type": "markdown",
      "metadata": {
        "id": "t23AaA1Fdb0C"
      },
      "source": [
        "# Standardize the Country entry in each row by converting its value to a canonical (consistent and recognized) form."
      ]
    },
    {
      "cell_type": "markdown",
      "metadata": {
        "id": "r2trk86fhHdD"
      },
      "source": [
        "Ensure that all country names and their variations are uniformly represented, making data analysis and grouping more accurate and straightforward.\n",
        "\n",
        "For example, entries like `\"USA\"`, `\"U.S.A.\"`, and `\"United States\"` are all standardized to `\"USA\"`, while `\"Thailand or Indonesia\"` becomes the list `[\"Thailand\", \"Indonesia\"]`."
      ]
    },
    {
      "cell_type": "code",
      "execution_count": 16,
      "metadata": {
        "id": "lheIqAmkbRW-"
      },
      "outputs": [],
      "source": [
        "# Canonical country list\n",
        "canonical_map = {\n",
        "    \"USA\": {\"usa\", \"u.s.a.\", \"united states\", \"us\", \"usa?\", \"hong kong, us patent\", \"us/mexico\", \"usa/mexico\", \"usa / mexico\"},\n",
        "\n",
        "    \"Mexico\": {\"mexico\", \"mexico & hong kong\", \"hong kong/mexico\", \"hong kong & mexico\"},\n",
        "\n",
        "    \"Hong Kong\": {\"hong kong\", \"hk\", \"hong kong or malaysia\", \"hong kong & malaysia\", \"hong kong/malaysia\", \"hong kong or malasya\"},\n",
        "\n",
        "    \"Thailand\": {\"thailand\", \"thail&\", \"thailand & malaysia\", \"thailand / malaysia\", \"thailand, malaysia\", \"thailand/malaysia\",\n",
        "\n",
        "                 \"thailand or china\", \"thailand / china\", \"thailand china\", \"china thailand\", \"thailand, china\",\n",
        "                 \"thailand or malaysia\", \"thailand / indonesia\", \"thailand/indonesia\", \"thailand or indonesia\",\n",
        "                 \"thailand malaysia\", \"thailand indonesia\", \"thailand (painted or engraved on base)\", \"thailand/china\"},\n",
        "\n",
        "    \"China\": {\"china\", \"china or thailand\", \"china / thailand\", \"china malaysia\", \"china, malaysia\", \"china/thailand\",\n",
        "              \"china, thailand\", \"china/ malaysia\"},\n",
        "\n",
        "    \"Malaysia\": {\"malaysia\", \"malaysia (boxed)\", \"flat malaysia\", \"raised malaysia\", \"malasyia\", \"maylasia\", \"malaysa\",\n",
        "                 \"malaysia or hong kong\", \"malaysia or china\", \"malaysia, china\", \"malaysia, china or thailand\",\n",
        "                 \"malaysia or thailand\", \"malaysia/thailand\", \"malaysia / thailand\", \"malaysia & china\",\n",
        "                 \"malaysia, india\", \"malasia\", \"malasysia\", \"mayalsia\", \"[malaysia\", \"malaysia (circled)\",\n",
        "                 \"malaysia (common) & china\", \"malaysia/china\", \"china/malaysia\", \"malaysia, thailand\", \"malaysia/thailand\",\n",
        "                 \"malaysia, thailand or china\", \"malaysia or indonesia\", \"indonesia, malaysia\"},\n",
        "\n",
        "    \"India\": {\"india\", \"inda\"},\n",
        "\n",
        "    \"Indonesia\": {\"indonesia\", \"indonesia(?)\"},\n",
        "\n",
        "    \"Italy\": {\"italy\"},\n",
        "\n",
        "    \"France\": {\"france\", \"french\"},\n",
        "\n",
        "    \"Canada\": {\"canada\"},\n",
        "\n",
        "    \"Macau\": {\"macau\"},\n",
        "\n",
        "    \"Vietnam\": {\"vietnam\"},\n",
        "}\n",
        "\n",
        "# Preprocess mapping: word set to canonical country name\n",
        "value_to_country = {}\n",
        "for canonical, variants in canonical_map.items():\n",
        "    for v in variants:\n",
        "        value_to_country[v.strip().lower()] = canonical\n",
        "\n",
        "# Helper function to extract canonical countries from entry\n",
        "def normalize_entry(entry):\n",
        "    entry = str(entry).strip().lower()\n",
        "\n",
        "    # Remove special characters (except / and , which separate countries)\n",
        "    cleaned = re.sub(r\"[?()\\[\\]]\", \"\", entry)\n",
        "\n",
        "    # Split based on common delimiters\n",
        "    parts = re.split(r\"[\\/,&]| or | and |,|;\", cleaned)\n",
        "    parts = [p.strip() for p in parts if p.strip()]\n",
        "\n",
        "    # Use a set to keep track of the normalized answer (so we don't double count permutations)\n",
        "    result = set()\n",
        "    for part in parts:\n",
        "        if part in value_to_country:\n",
        "            result.add(value_to_country[part])\n",
        "\n",
        "    # If any valid country matched, return as list\n",
        "    if result:\n",
        "        return sorted(result) if len(result) > 1 else list(result)[0]\n",
        "\n",
        "    # Fallback: mark as unknown\n",
        "    return \"Unknown\"\n",
        "\n",
        "# Apply normalization\n",
        "df[\"Country (Normalized)\"] = df[\"Country\"].apply(normalize_entry)\n",
        "\n",
        "# Convert the year entries into integers\n",
        "df[\"Year\"] = pd.to_numeric(df[\"Year\"], errors='coerce').astype('Int64')\n",
        "\n",
        "# Drop entries where the year row is NaN\n",
        "df= df[df[\"Year\"].notna()]\n",
        "\n",
        "# Save the result as \"processedPhase2.csv\"\n",
        "df.to_csv(\"./processedPhase2.csv\", index=False)"
      ]
    }
  ],
  "metadata": {
    "colab": {
      "provenance": []
    },
    "kernelspec": {
      "display_name": "Python 3",
      "name": "python3"
    },
    "language_info": {
      "name": "python",
      "version": "3.11.1"
    }
  },
  "nbformat": 4,
  "nbformat_minor": 0
}
