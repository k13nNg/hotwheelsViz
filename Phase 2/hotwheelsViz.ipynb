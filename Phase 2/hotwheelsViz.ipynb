{
  "cells": [
    {
      "cell_type": "markdown",
      "metadata": {
        "id": "eALWtsDQiULw"
      },
      "source": [
        "This processed was done in Google COlb, so the path will be different"
      ]
    },
    {
      "cell_type": "markdown",
      "metadata": {
        "id": "ExjLhj-a7DY7"
      },
      "source": [
        "# Import necessary libraries"
      ]
    },
    {
      "cell_type": "code",
      "execution_count": 2,
      "metadata": {
        "colab": {
          "base_uri": "https://localhost:8080/"
        },
        "id": "JEXVKdwQ617H",
        "outputId": "1dcb7042-dd1c-4820-c947-62117d0125be"
      },
      "outputs": [
        {
          "name": "stdout",
          "output_type": "stream",
          "text": [
            "Defaulting to user installation because normal site-packages is not writeable\n",
            "Requirement already satisfied: pycountry in /Users/tomnguyen/Library/Python/3.11/lib/python/site-packages (24.6.1)\n",
            "Note: you may need to restart the kernel to use updated packages.\n",
            "Defaulting to user installation because normal site-packages is not writeable\n",
            "Requirement already satisfied: pandas in /Library/Frameworks/Python.framework/Versions/3.11/lib/python3.11/site-packages (1.5.3)\n",
            "Requirement already satisfied: python-dateutil>=2.8.1 in /Users/tomnguyen/Library/Python/3.11/lib/python/site-packages (from pandas) (2.8.2)\n",
            "Requirement already satisfied: pytz>=2020.1 in /Library/Frameworks/Python.framework/Versions/3.11/lib/python3.11/site-packages (from pandas) (2023.3)\n",
            "Requirement already satisfied: numpy>=1.21.0 in /Users/tomnguyen/Library/Python/3.11/lib/python/site-packages (from pandas) (1.26.4)\n",
            "Requirement already satisfied: six>=1.5 in /Users/tomnguyen/Library/Python/3.11/lib/python/site-packages (from python-dateutil>=2.8.1->pandas) (1.16.0)\n",
            "Note: you may need to restart the kernel to use updated packages.\n"
          ]
        },
        {
          "ename": "ImportError",
          "evalue": "Unable to import required dependencies:\nnumpy: Error importing numpy: you should not try to import numpy from\n        its source directory; please exit the numpy source tree, and relaunch\n        your python interpreter from there.",
          "output_type": "error",
          "traceback": [
            "\u001b[0;31m---------------------------------------------------------------------------\u001b[0m",
            "\u001b[0;31mImportError\u001b[0m                               Traceback (most recent call last)",
            "Cell \u001b[0;32mIn[2], line 3\u001b[0m\n\u001b[1;32m      1\u001b[0m get_ipython()\u001b[38;5;241m.\u001b[39mrun_line_magic(\u001b[38;5;124m'\u001b[39m\u001b[38;5;124mpip\u001b[39m\u001b[38;5;124m'\u001b[39m, \u001b[38;5;124m'\u001b[39m\u001b[38;5;124minstall pycountry\u001b[39m\u001b[38;5;124m'\u001b[39m)\n\u001b[1;32m      2\u001b[0m get_ipython()\u001b[38;5;241m.\u001b[39mrun_line_magic(\u001b[38;5;124m'\u001b[39m\u001b[38;5;124mpip\u001b[39m\u001b[38;5;124m'\u001b[39m, \u001b[38;5;124m'\u001b[39m\u001b[38;5;124minstall pandas\u001b[39m\u001b[38;5;124m'\u001b[39m)\n\u001b[0;32m----> 3\u001b[0m \u001b[38;5;28;01mimport\u001b[39;00m \u001b[38;5;21;01mpandas\u001b[39;00m \u001b[38;5;28;01mas\u001b[39;00m \u001b[38;5;21;01mpd\u001b[39;00m\n\u001b[1;32m      4\u001b[0m \u001b[38;5;28;01mimport\u001b[39;00m \u001b[38;5;21;01mpycountry\u001b[39;00m\n\u001b[1;32m      5\u001b[0m \u001b[38;5;28;01mimport\u001b[39;00m \u001b[38;5;21;01mre\u001b[39;00m\n",
            "File \u001b[0;32m/Library/Frameworks/Python.framework/Versions/3.11/lib/python3.11/site-packages/pandas/__init__.py:16\u001b[0m\n\u001b[1;32m     13\u001b[0m         _missing_dependencies\u001b[38;5;241m.\u001b[39mappend(\u001b[38;5;124mf\u001b[39m\u001b[38;5;124m\"\u001b[39m\u001b[38;5;132;01m{\u001b[39;00m_dependency\u001b[38;5;132;01m}\u001b[39;00m\u001b[38;5;124m: \u001b[39m\u001b[38;5;132;01m{\u001b[39;00m_e\u001b[38;5;132;01m}\u001b[39;00m\u001b[38;5;124m\"\u001b[39m)\n\u001b[1;32m     15\u001b[0m \u001b[38;5;28;01mif\u001b[39;00m _missing_dependencies:\n\u001b[0;32m---> 16\u001b[0m     \u001b[38;5;28;01mraise\u001b[39;00m \u001b[38;5;167;01mImportError\u001b[39;00m(\n\u001b[1;32m     17\u001b[0m         \u001b[38;5;124m\"\u001b[39m\u001b[38;5;124mUnable to import required dependencies:\u001b[39m\u001b[38;5;130;01m\\n\u001b[39;00m\u001b[38;5;124m\"\u001b[39m \u001b[38;5;241m+\u001b[39m \u001b[38;5;124m\"\u001b[39m\u001b[38;5;130;01m\\n\u001b[39;00m\u001b[38;5;124m\"\u001b[39m\u001b[38;5;241m.\u001b[39mjoin(_missing_dependencies)\n\u001b[1;32m     18\u001b[0m     )\n\u001b[1;32m     19\u001b[0m \u001b[38;5;28;01mdel\u001b[39;00m _hard_dependencies, _dependency, _missing_dependencies\n\u001b[1;32m     21\u001b[0m \u001b[38;5;66;03m# numpy compat\u001b[39;00m\n",
            "\u001b[0;31mImportError\u001b[0m: Unable to import required dependencies:\nnumpy: Error importing numpy: you should not try to import numpy from\n        its source directory; please exit the numpy source tree, and relaunch\n        your python interpreter from there."
          ]
        }
      ],
      "source": [
        "%pip install pycountry\n",
        "%pip install pandas\n",
        "import pandas as pd\n",
        "import pycountry\n",
        "import re"
      ]
    },
    {
      "cell_type": "code",
      "execution_count": 22,
      "metadata": {
        "colab": {
          "base_uri": "https://localhost:8080/"
        },
        "id": "hDXANbOM7Ad_",
        "outputId": "49e9d3cb-6421-4b48-8936-7c8743f8e1e1"
      },
      "outputs": [
        {
          "name": "stdout",
          "output_type": "stream",
          "text": [
            "(24490, 7)\n"
          ]
        }
      ],
      "source": [
        "df = pd.read_csv(\"./rawPhase2.csv\")\n",
        "print(df.shape)"
      ]
    },
    {
      "cell_type": "markdown",
      "metadata": {
        "id": "qe3wEaNJ8OH2"
      },
      "source": [
        "# Process entries where the \"Country\" column is not the name of a country"
      ]
    },
    {
      "cell_type": "code",
      "execution_count": 23,
      "metadata": {
        "colab": {
          "base_uri": "https://localhost:8080/"
        },
        "id": "2Y98FbQJ7Qql",
        "outputId": "fa7726a5-852a-4f7c-8f85-1056fb43e9cc"
      },
      "outputs": [
        {
          "name": "stdout",
          "output_type": "stream",
          "text": [
            "109\n",
            "-------------------------------\n",
            "USA\n",
            "Hong Kong\n",
            "Thailand\n",
            "China\n",
            "HK\n",
            "United States\n",
            "nan\n",
            "US\n",
            "Thailand China\n",
            "Malaysia\n",
            "U.S.A.\n",
            "Indonesia\n",
            "Italy\n",
            "France\n",
            "US/Mexico\n",
            "Mexico\n",
            "CoO scratched out\n",
            "French\n",
            "Hong Kong, US Patent\n",
            "USA?\n",
            "Thailand & Malaysia\n",
            "USA/Mexico\n",
            "USA / Mexico\n",
            "MEXICO\n",
            "Hong Kong/Mexico\n",
            "Hong Kong & Mexico\n",
            "Mexico & Hong Kong\n",
            "China or Thailand\n",
            "Malaysia (Boxed)\n",
            "India\n",
            "Thail&\n",
            "7286\n",
            "Came on a Clock Stand? (Check Gallery)\n",
            "China or Malaysia\n",
            "Malasyia\n",
            "Hong Kong or Malaysia\n",
            "Maylasia\n",
            "Malaysa\n",
            "Inda\n",
            "Hong Kong & Malaysia\n",
            "Thailand or China\n",
            "No Country on base\n",
            "?\n",
            "Malaysia or Hong Kong\n",
            "not on base\n",
            "Flat Malaysia\n",
            "Raised Malaysia\n",
            "China / Thailand\n",
            "unknown\n",
            "No Country\n",
            "Thailand / China\n",
            "Canada\n",
            "Thailand / Malaysia\n",
            "Hong Kong/Malaysia\n",
            "Malaysia or China\n",
            "China Malaysia\n",
            "Malaysia or Thailand\n",
            "Hong Kong or Malasya\n",
            "Thailand, Malaysia\n",
            "Malaysia, Thailand\n",
            "Malaysia, China\n",
            "Thailand/Malaysia\n",
            "Malaysia/Thailand\n",
            "Macau\n",
            "Malaysia (common) & China\n",
            "Malaysia, China or Thailand\n",
            "Dale Jarrett\n",
            "China Thailand\n",
            "Malaysia, China, Thailand\n",
            "China, Malaysia\n",
            "China/Thailand\n",
            "Some are marked Malaysia, some are not marked\n",
            "Malaysia/China\n",
            "Malaysia / Thailand\n",
            "65625\n",
            "Thailand or Malaysia\n",
            "Malaysia & China\n",
            "Malaysia, India\n",
            "Malasia\n",
            "Malaysia, Thailand, China\n",
            "China/Malaysia\n",
            "Malaysia, Thailand or China\n",
            "China, Thailand\n",
            "Thailand (painted or engraved on base)\n",
            "Thailand/China\n",
            "Vietnam\n",
            "Malasysia\n",
            "Mayalsia or Thailand\n",
            "B6502\n",
            "B6501\n",
            "B6494\n",
            "B6495\n",
            "Thailand Malaysia\n",
            "Malysia\n",
            "Malaysia or Indonesia\n",
            "Thailand or Indonesia\n",
            "Thailand / Indonesia\n",
            "Thailand/Indonesia\n",
            "Indonesia(?)\n",
            "Thailand Indonesia\n",
            "100.0\n",
            "[Malaysia\n",
            "Malaysia (circled)\n",
            "Indonesia, Malaysia\n",
            "JHW18\n",
            "JHW17\n",
            "JHW46\n",
            "JKD99\n",
            "JHW19\n"
          ]
        }
      ],
      "source": [
        "print(len(list(df[\"Country\"].unique())))\n",
        "print(\"-------------------------------\")\n",
        "for i in list(df[\"Country\"].unique()):\n",
        "  print(i)"
      ]
    },
    {
      "cell_type": "markdown",
      "metadata": {
        "id": "2z5yv2gTY4aN"
      },
      "source": [
        "# Guessed based on where the majority of this model is produced"
      ]
    },
    {
      "cell_type": "code",
      "execution_count": 24,
      "metadata": {
        "id": "kJQM-wYQUfSw"
      },
      "outputs": [],
      "source": [
        "df.loc[df[\"Country\"].isin([\"B6502\", \"B6501\", \"B6494\", \"B6495\"]), \"Country\"] = \"Thailand\""
      ]
    },
    {
      "cell_type": "markdown",
      "metadata": {
        "id": "zGBl7yC2ZADp"
      },
      "source": [
        "# Fill in `NaN`, `unknown` and `?` values with strings \"N/A\""
      ]
    },
    {
      "cell_type": "code",
      "execution_count": 25,
      "metadata": {
        "id": "NraEsO9mUhQu"
      },
      "outputs": [],
      "source": [
        "df[\"Country\"] = df[\"Country\"].fillna(\"N/A\")\n",
        "df.loc[df[\"Country\"].isin([\"?\", \"unknown\"]), \"Country\"] = \"N/A\""
      ]
    },
    {
      "cell_type": "markdown",
      "metadata": {
        "id": "Gf8WBXrxYvpk"
      },
      "source": [
        "# Handle 2026 data (`Toy number` and `Country` columns are mixed up)"
      ]
    },
    {
      "cell_type": "code",
      "execution_count": 26,
      "metadata": {
        "id": "EFw_vj02XQPP"
      },
      "outputs": [],
      "source": [
        "df.loc[df[\"Country\"].isin([\"JHW18\", \"JHW17\", \"JHW46\", \"JKD99\", \"JHW19\"]), \"Country\"] = \"Thailand\""
      ]
    },
    {
      "cell_type": "markdown",
      "metadata": {
        "id": "xSDgQoCKajXF"
      },
      "source": [
        "# Handle `'58 Corvette Coupe`, 1995 version\n",
        "This is a bit of a special case, the country entry is `\"Some are marked Malaysia, some are not marked\"`, we will assume all of them are produced in Malaysia in this case"
      ]
    },
    {
      "cell_type": "code",
      "execution_count": 27,
      "metadata": {
        "id": "pF3b47cXYM02"
      },
      "outputs": [],
      "source": [
        "df.loc[df[\"Country\"] == \"Some are marked Malaysia, some are not marked\", \"Country\"]= \"Malaysia\""
      ]
    },
    {
      "cell_type": "markdown",
      "metadata": {
        "id": "t23AaA1Fdb0C"
      },
      "source": [
        "# Standardize the Country entry in each row by converting its value to a canonical (consistent and recognized) form."
      ]
    },
    {
      "cell_type": "markdown",
      "metadata": {
        "id": "r2trk86fhHdD"
      },
      "source": [
        "Ensure that all country names and their variations are uniformly represented, making data analysis and grouping more accurate and straightforward.\n",
        "\n",
        "For example, entries like `\"USA\"`, `\"U.S.A.\"`, and `\"United States\"` are all standardized to `\"USA\"`, while `\"Thailand or Indonesia\"` becomes the list `[\"Thailand\", \"Indonesia\"]`."
      ]
    },
    {
      "cell_type": "code",
      "execution_count": 28,
      "metadata": {
        "id": "lheIqAmkbRW-"
      },
      "outputs": [],
      "source": [
        "# Canonical country list\n",
        "canonical_map = {\n",
        "    \"USA\": {\"usa\", \"u.s.a.\", \"united states\", \"us\", \"usa?\", \"hong kong, us patent\", \"us/mexico\", \"usa/mexico\", \"usa / mexico\"},\n",
        "\n",
        "    \"Mexico\": {\"mexico\", \"mexico & hong kong\", \"hong kong/mexico\", \"hong kong & mexico\"},\n",
        "\n",
        "    \"Hong Kong\": {\"hong kong\", \"hk\", \"hong kong or malaysia\", \"hong kong & malaysia\", \"hong kong/malaysia\", \"hong kong or malasya\"},\n",
        "\n",
        "    \"Thailand\": {\"thailand\", \"thail&\", \"thailand & malaysia\", \"thailand / malaysia\", \"thailand, malaysia\", \"thailand/malaysia\",\n",
        "\n",
        "                 \"thailand or china\", \"thailand / china\", \"thailand china\", \"china thailand\", \"thailand, china\",\n",
        "                 \"thailand or malaysia\", \"thailand / indonesia\", \"thailand/indonesia\", \"thailand or indonesia\",\n",
        "                 \"thailand malaysia\", \"thailand indonesia\", \"thailand (painted or engraved on base)\", \"thailand/china\"},\n",
        "\n",
        "    \"China\": {\"china\", \"china or thailand\", \"china / thailand\", \"china malaysia\", \"china, malaysia\", \"china/thailand\",\n",
        "              \"china, thailand\", \"china/ malaysia\"},\n",
        "\n",
        "    \"Malaysia\": {\"malaysia\", \"malaysia (boxed)\", \"flat malaysia\", \"raised malaysia\", \"malasyia\", \"maylasia\", \"malaysa\",\n",
        "                 \"malaysia or hong kong\", \"malaysia or china\", \"malaysia, china\", \"malaysia, china or thailand\",\n",
        "                 \"malaysia or thailand\", \"malaysia/thailand\", \"malaysia / thailand\", \"malaysia & china\",\n",
        "                 \"malaysia, india\", \"malasia\", \"malasysia\", \"mayalsia\", \"[malaysia\", \"malaysia (circled)\",\n",
        "                 \"malaysia (common) & china\", \"malaysia/china\", \"china/malaysia\", \"malaysia, thailand\", \"malaysia/thailand\",\n",
        "                 \"malaysia, thailand or china\", \"malaysia or indonesia\", \"indonesia, malaysia\"},\n",
        "\n",
        "    \"India\": {\"india\", \"inda\"},\n",
        "\n",
        "    \"Indonesia\": {\"indonesia\", \"indonesia(?)\"},\n",
        "\n",
        "    \"Italy\": {\"italy\"},\n",
        "\n",
        "    \"France\": {\"france\", \"french\"},\n",
        "\n",
        "    \"Canada\": {\"canada\"},\n",
        "\n",
        "    \"Macau\": {\"macau\"},\n",
        "\n",
        "    \"Vietnam\": {\"vietnam\"},\n",
        "}\n",
        "\n",
        "# Preprocess mapping: word set to canonical country name\n",
        "value_to_country = {}\n",
        "for canonical, variants in canonical_map.items():\n",
        "    for v in variants:\n",
        "        value_to_country[v.strip().lower()] = canonical\n",
        "\n",
        "# Helper function to extract canonical countries from entry\n",
        "def normalize_entry(entry):\n",
        "    entry = str(entry).strip().lower()\n",
        "\n",
        "    # Remove special characters (except / and , which separate countries)\n",
        "    cleaned = re.sub(r\"[?()\\[\\]]\", \"\", entry)\n",
        "\n",
        "    # Split based on common delimiters\n",
        "    parts = re.split(r\"[\\/,&]| or | and |,|;\", cleaned)\n",
        "    parts = [p.strip() for p in parts if p.strip()]\n",
        "\n",
        "    # Use a set to keep track of the normalized answer (so we don't double count permutations)\n",
        "    result = set()\n",
        "    for part in parts:\n",
        "        if part in value_to_country:\n",
        "            result.add(value_to_country[part])\n",
        "\n",
        "    # If any valid country matched, return as list\n",
        "    if result:\n",
        "        return sorted(result) if len(result) > 1 else list(result)[0]\n",
        "\n",
        "    # Fallback: mark as unknown\n",
        "    return \"Unknown\"\n",
        "\n",
        "# Apply normalization\n",
        "df[\"Country (Normalized)\"] = df[\"Country\"].apply(normalize_entry)\n",
        "\n",
        "# Expand/ Explode rows with multiple countries into separate rows\n",
        "df = df.explode(\"Country (Normalized)\")\n",
        "\n",
        "# Convert the year entries into integers\n",
        "df[\"Year\"] = pd.to_numeric(df[\"Year\"], errors='coerce').astype('Int64')\n",
        "\n",
        "# Drop entries where the year row is NaN\n",
        "df= df[df[\"Year\"].notna()]"
      ]
    },
    {
      "cell_type": "markdown",
      "metadata": {
        "id": "4gnYoVVtimGT"
      },
      "source": [
        "# Fill in the empty entries of `Series`,`Color`,`Window Color`, and `Interior Color` as \"N/A\""
      ]
    },
    {
      "cell_type": "code",
      "execution_count": 29,
      "metadata": {
        "id": "15YvfCeeixnA"
      },
      "outputs": [],
      "source": [
        "df[\"Series\"] = df[\"Series\"].fillna(\"N/A\")\n",
        "df[\"Color\"] = df[\"Color\"].fillna(\"N/A\")\n",
        "df[\"Window Color\"] = df[\"Window Color\"].fillna(\"N/A\")\n",
        "df[\"Interior Color\"] = df[\"Interior Color\"].fillna(\"N/A\")"
      ]
    },
    {
      "cell_type": "markdown",
      "metadata": {
        "id": "2_6L2EE7mAdH"
      },
      "source": [
        "# Create `Alpha-3 Code` column that contains the alpha-3 code for country names (normalized)"
      ]
    },
    {
      "cell_type": "code",
      "execution_count": 30,
      "metadata": {
        "collapsed": true,
        "id": "XdAuqQRUmPYr"
      },
      "outputs": [],
      "source": [
        "def get_iso_alpha3(country):\n",
        "  try:\n",
        "        # Try to look up the country name\n",
        "        return pycountry.countries.lookup(country).alpha_3\n",
        "  except:\n",
        "        return \"UNK\"  # or \"UNK\" if you want a placeholder for unknown\n",
        "\n",
        "# If 'Country (Normalized)' contains strings:\n",
        "df[\"Country Code\"] = df[\"Country (Normalized)\"].apply(\n",
        "    lambda x: get_iso_alpha3(x)\n",
        ")"
      ]
    },
    {
      "cell_type": "code",
      "execution_count": 35,
      "metadata": {
        "colab": {
          "base_uri": "https://localhost:8080/",
          "height": 728
        },
        "id": "Tor39Fy7zPNO",
        "outputId": "d0c60e07-e24e-41bd-a83f-dc92648a0d53"
      },
      "outputs": [
        {
          "data": {
            "application/vnd.google.colaboratory.intrinsic+json": {
              "summary": "{\n  \"name\": \"df\",\n  \"rows\": 10,\n  \"fields\": [\n    {\n      \"column\": \"Year\",\n      \"properties\": {\n        \"dtype\": \"Int64\",\n        \"num_unique_values\": 10,\n        \"samples\": [\n          2012,\n          2013,\n          1994\n        ],\n        \"semantic_type\": \"\",\n        \"description\": \"\"\n      }\n    },\n    {\n      \"column\": \"Model Name\",\n      \"properties\": {\n        \"dtype\": \"string\",\n        \"num_unique_values\": 10,\n        \"samples\": [\n          \"Cool-One\",\n          \"'70 Toyota Celica\",\n          \"MAN Truck\"\n        ],\n        \"semantic_type\": \"\",\n        \"description\": \"\"\n      }\n    },\n    {\n      \"column\": \"Series\",\n      \"properties\": {\n        \"dtype\": \"string\",\n        \"num_unique_values\": 10,\n        \"samples\": [\n          \"HW Code Cars 20/22\",\n          \"HW City: Street Power\",\n          \"Auto-City\"\n        ],\n        \"semantic_type\": \"\",\n        \"description\": \"\"\n      }\n    },\n    {\n      \"column\": \"Color\",\n      \"properties\": {\n        \"dtype\": \"string\",\n        \"num_unique_values\": 10,\n        \"samples\": [\n          \"Metallic Olive\",\n          \"Metalflake Dark Green\",\n          \"Red\"\n        ],\n        \"semantic_type\": \"\",\n        \"description\": \"\"\n      }\n    },\n    {\n      \"column\": \"Window Color\",\n      \"properties\": {\n        \"dtype\": \"string\",\n        \"num_unique_values\": 5,\n        \"samples\": [\n          \"Black Tint\",\n          \"N/A\",\n          \"Tinted (Yellow)\"\n        ],\n        \"semantic_type\": \"\",\n        \"description\": \"\"\n      }\n    },\n    {\n      \"column\": \"Interior Color\",\n      \"properties\": {\n        \"dtype\": \"category\",\n        \"num_unique_values\": 4,\n        \"samples\": [\n          \"Chrome\",\n          \"Green\",\n          \"Black\"\n        ],\n        \"semantic_type\": \"\",\n        \"description\": \"\"\n      }\n    },\n    {\n      \"column\": \"Country\",\n      \"properties\": {\n        \"dtype\": \"category\",\n        \"num_unique_values\": 4,\n        \"samples\": [\n          \"Malaysia\",\n          \"USA\",\n          \"China\"\n        ],\n        \"semantic_type\": \"\",\n        \"description\": \"\"\n      }\n    },\n    {\n      \"column\": \"Country (Normalized)\",\n      \"properties\": {\n        \"dtype\": \"category\",\n        \"num_unique_values\": 4,\n        \"samples\": [\n          \"Malaysia\",\n          \"USA\",\n          \"China\"\n        ],\n        \"semantic_type\": \"\",\n        \"description\": \"\"\n      }\n    },\n    {\n      \"column\": \"Country Code\",\n      \"properties\": {\n        \"dtype\": \"category\",\n        \"num_unique_values\": 4,\n        \"samples\": [\n          \"MYS\",\n          \"USA\",\n          \"CHN\"\n        ],\n        \"semantic_type\": \"\",\n        \"description\": \"\"\n      }\n    }\n  ]\n}",
              "type": "dataframe"
            },
            "text/html": [
              "\n",
              "  <div id=\"df-16bc3d8c-a66a-4ee2-831f-8b482998741a\" class=\"colab-df-container\">\n",
              "    <div>\n",
              "<style scoped>\n",
              "    .dataframe tbody tr th:only-of-type {\n",
              "        vertical-align: middle;\n",
              "    }\n",
              "\n",
              "    .dataframe tbody tr th {\n",
              "        vertical-align: top;\n",
              "    }\n",
              "\n",
              "    .dataframe thead th {\n",
              "        text-align: right;\n",
              "    }\n",
              "</style>\n",
              "<table border=\"1\" class=\"dataframe\">\n",
              "  <thead>\n",
              "    <tr style=\"text-align: right;\">\n",
              "      <th></th>\n",
              "      <th>Year</th>\n",
              "      <th>Model Name</th>\n",
              "      <th>Series</th>\n",
              "      <th>Color</th>\n",
              "      <th>Window Color</th>\n",
              "      <th>Interior Color</th>\n",
              "      <th>Country</th>\n",
              "      <th>Country (Normalized)</th>\n",
              "      <th>Country Code</th>\n",
              "    </tr>\n",
              "  </thead>\n",
              "  <tbody>\n",
              "    <tr>\n",
              "      <th>16408</th>\n",
              "      <td>2004</td>\n",
              "      <td>'34 Ford Delivery</td>\n",
              "      <td>Larry Wood's 35th Anniversary Set</td>\n",
              "      <td>Orange</td>\n",
              "      <td>Clear</td>\n",
              "      <td>Black</td>\n",
              "      <td>China</td>\n",
              "      <td>China</td>\n",
              "      <td>CHN</td>\n",
              "    </tr>\n",
              "    <tr>\n",
              "      <th>22090</th>\n",
              "      <td>2013</td>\n",
              "      <td>'70 Toyota Celica</td>\n",
              "      <td>HW City: Street Power</td>\n",
              "      <td>Metalflake Dark Green</td>\n",
              "      <td>Black Tint</td>\n",
              "      <td>Black</td>\n",
              "      <td>Malaysia</td>\n",
              "      <td>Malaysia</td>\n",
              "      <td>MYS</td>\n",
              "    </tr>\n",
              "    <tr>\n",
              "      <th>20348</th>\n",
              "      <td>2016</td>\n",
              "      <td>2009 Ford F-150</td>\n",
              "      <td>Hot Trucks 5-Pack</td>\n",
              "      <td>Magenta</td>\n",
              "      <td>Tinted (Yellow)</td>\n",
              "      <td>Chrome</td>\n",
              "      <td>Malaysia</td>\n",
              "      <td>Malaysia</td>\n",
              "      <td>MYS</td>\n",
              "    </tr>\n",
              "    <tr>\n",
              "      <th>22864</th>\n",
              "      <td>2019</td>\n",
              "      <td>'17 Ford F-150 Raptor</td>\n",
              "      <td>Car Culture: Desert Rally 4/5</td>\n",
              "      <td>Metalflake Black</td>\n",
              "      <td>Smoke tint</td>\n",
              "      <td>Black</td>\n",
              "      <td>Thailand</td>\n",
              "      <td>Thailand</td>\n",
              "      <td>THA</td>\n",
              "    </tr>\n",
              "    <tr>\n",
              "      <th>21387</th>\n",
              "      <td>2014</td>\n",
              "      <td>File:2011DodgeDemonCarded.jpg</td>\n",
              "      <td>HW Workshop: Heat Fleet</td>\n",
              "      <td>Metalflake Orange</td>\n",
              "      <td>Clear</td>\n",
              "      <td>Black</td>\n",
              "      <td>Malaysia</td>\n",
              "      <td>Malaysia</td>\n",
              "      <td>MYS</td>\n",
              "    </tr>\n",
              "    <tr>\n",
              "      <th>11391</th>\n",
              "      <td>1994</td>\n",
              "      <td>MAN Truck</td>\n",
              "      <td>Auto-City</td>\n",
              "      <td>Red</td>\n",
              "      <td>Clear</td>\n",
              "      <td>Black</td>\n",
              "      <td>China</td>\n",
              "      <td>China</td>\n",
              "      <td>CHN</td>\n",
              "    </tr>\n",
              "    <tr>\n",
              "      <th>874</th>\n",
              "      <td>1969</td>\n",
              "      <td>Custom Charger</td>\n",
              "      <td>Hot Wheels</td>\n",
              "      <td>Spectraflame Creamy 'Lavender' Pink</td>\n",
              "      <td>Clear</td>\n",
              "      <td>N/A</td>\n",
              "      <td>USA</td>\n",
              "      <td>USA</td>\n",
              "      <td>USA</td>\n",
              "    </tr>\n",
              "    <tr>\n",
              "      <th>18213</th>\n",
              "      <td>2007</td>\n",
              "      <td>'70 Mustang Mach 1 (1:50)</td>\n",
              "      <td>G-Machines: Street Legal (Series 2) 4/5</td>\n",
              "      <td>Dark Blue</td>\n",
              "      <td>N/A</td>\n",
              "      <td>N/A</td>\n",
              "      <td>China</td>\n",
              "      <td>China</td>\n",
              "      <td>CHN</td>\n",
              "    </tr>\n",
              "    <tr>\n",
              "      <th>17771</th>\n",
              "      <td>2012</td>\n",
              "      <td>Cool-One</td>\n",
              "      <td>HW Code Cars 20/22</td>\n",
              "      <td>Metallic Olive</td>\n",
              "      <td>Tinted (Yellow)</td>\n",
              "      <td>Green</td>\n",
              "      <td>Malaysia</td>\n",
              "      <td>Malaysia</td>\n",
              "      <td>MYS</td>\n",
              "    </tr>\n",
              "    <tr>\n",
              "      <th>18487</th>\n",
              "      <td>2022</td>\n",
              "      <td>Bone Shaker</td>\n",
              "      <td>HW Dream Garage 4/5</td>\n",
              "      <td>ZAMAC</td>\n",
              "      <td>N/A</td>\n",
              "      <td>Chrome</td>\n",
              "      <td>Malaysia</td>\n",
              "      <td>Malaysia</td>\n",
              "      <td>MYS</td>\n",
              "    </tr>\n",
              "  </tbody>\n",
              "</table>\n",
              "</div>\n",
              "    <div class=\"colab-df-buttons\">\n",
              "\n",
              "  <div class=\"colab-df-container\">\n",
              "    <button class=\"colab-df-convert\" onclick=\"convertToInteractive('df-16bc3d8c-a66a-4ee2-831f-8b482998741a')\"\n",
              "            title=\"Convert this dataframe to an interactive table.\"\n",
              "            style=\"display:none;\">\n",
              "\n",
              "  <svg xmlns=\"http://www.w3.org/2000/svg\" height=\"24px\" viewBox=\"0 -960 960 960\">\n",
              "    <path d=\"M120-120v-720h720v720H120Zm60-500h600v-160H180v160Zm220 220h160v-160H400v160Zm0 220h160v-160H400v160ZM180-400h160v-160H180v160Zm440 0h160v-160H620v160ZM180-180h160v-160H180v160Zm440 0h160v-160H620v160Z\"/>\n",
              "  </svg>\n",
              "    </button>\n",
              "\n",
              "  <style>\n",
              "    .colab-df-container {\n",
              "      display:flex;\n",
              "      gap: 12px;\n",
              "    }\n",
              "\n",
              "    .colab-df-convert {\n",
              "      background-color: #E8F0FE;\n",
              "      border: none;\n",
              "      border-radius: 50%;\n",
              "      cursor: pointer;\n",
              "      display: none;\n",
              "      fill: #1967D2;\n",
              "      height: 32px;\n",
              "      padding: 0 0 0 0;\n",
              "      width: 32px;\n",
              "    }\n",
              "\n",
              "    .colab-df-convert:hover {\n",
              "      background-color: #E2EBFA;\n",
              "      box-shadow: 0px 1px 2px rgba(60, 64, 67, 0.3), 0px 1px 3px 1px rgba(60, 64, 67, 0.15);\n",
              "      fill: #174EA6;\n",
              "    }\n",
              "\n",
              "    .colab-df-buttons div {\n",
              "      margin-bottom: 4px;\n",
              "    }\n",
              "\n",
              "    [theme=dark] .colab-df-convert {\n",
              "      background-color: #3B4455;\n",
              "      fill: #D2E3FC;\n",
              "    }\n",
              "\n",
              "    [theme=dark] .colab-df-convert:hover {\n",
              "      background-color: #434B5C;\n",
              "      box-shadow: 0px 1px 3px 1px rgba(0, 0, 0, 0.15);\n",
              "      filter: drop-shadow(0px 1px 2px rgba(0, 0, 0, 0.3));\n",
              "      fill: #FFFFFF;\n",
              "    }\n",
              "  </style>\n",
              "\n",
              "    <script>\n",
              "      const buttonEl =\n",
              "        document.querySelector('#df-16bc3d8c-a66a-4ee2-831f-8b482998741a button.colab-df-convert');\n",
              "      buttonEl.style.display =\n",
              "        google.colab.kernel.accessAllowed ? 'block' : 'none';\n",
              "\n",
              "      async function convertToInteractive(key) {\n",
              "        const element = document.querySelector('#df-16bc3d8c-a66a-4ee2-831f-8b482998741a');\n",
              "        const dataTable =\n",
              "          await google.colab.kernel.invokeFunction('convertToInteractive',\n",
              "                                                    [key], {});\n",
              "        if (!dataTable) return;\n",
              "\n",
              "        const docLinkHtml = 'Like what you see? Visit the ' +\n",
              "          '<a target=\"_blank\" href=https://colab.research.google.com/notebooks/data_table.ipynb>data table notebook</a>'\n",
              "          + ' to learn more about interactive tables.';\n",
              "        element.innerHTML = '';\n",
              "        dataTable['output_type'] = 'display_data';\n",
              "        await google.colab.output.renderOutput(dataTable, element);\n",
              "        const docLink = document.createElement('div');\n",
              "        docLink.innerHTML = docLinkHtml;\n",
              "        element.appendChild(docLink);\n",
              "      }\n",
              "    </script>\n",
              "  </div>\n",
              "\n",
              "\n",
              "    <div id=\"df-9f8ded88-1ec1-4dbe-aab6-7f7455c1e769\">\n",
              "      <button class=\"colab-df-quickchart\" onclick=\"quickchart('df-9f8ded88-1ec1-4dbe-aab6-7f7455c1e769')\"\n",
              "                title=\"Suggest charts\"\n",
              "                style=\"display:none;\">\n",
              "\n",
              "<svg xmlns=\"http://www.w3.org/2000/svg\" height=\"24px\"viewBox=\"0 0 24 24\"\n",
              "     width=\"24px\">\n",
              "    <g>\n",
              "        <path d=\"M19 3H5c-1.1 0-2 .9-2 2v14c0 1.1.9 2 2 2h14c1.1 0 2-.9 2-2V5c0-1.1-.9-2-2-2zM9 17H7v-7h2v7zm4 0h-2V7h2v10zm4 0h-2v-4h2v4z\"/>\n",
              "    </g>\n",
              "</svg>\n",
              "      </button>\n",
              "\n",
              "<style>\n",
              "  .colab-df-quickchart {\n",
              "      --bg-color: #E8F0FE;\n",
              "      --fill-color: #1967D2;\n",
              "      --hover-bg-color: #E2EBFA;\n",
              "      --hover-fill-color: #174EA6;\n",
              "      --disabled-fill-color: #AAA;\n",
              "      --disabled-bg-color: #DDD;\n",
              "  }\n",
              "\n",
              "  [theme=dark] .colab-df-quickchart {\n",
              "      --bg-color: #3B4455;\n",
              "      --fill-color: #D2E3FC;\n",
              "      --hover-bg-color: #434B5C;\n",
              "      --hover-fill-color: #FFFFFF;\n",
              "      --disabled-bg-color: #3B4455;\n",
              "      --disabled-fill-color: #666;\n",
              "  }\n",
              "\n",
              "  .colab-df-quickchart {\n",
              "    background-color: var(--bg-color);\n",
              "    border: none;\n",
              "    border-radius: 50%;\n",
              "    cursor: pointer;\n",
              "    display: none;\n",
              "    fill: var(--fill-color);\n",
              "    height: 32px;\n",
              "    padding: 0;\n",
              "    width: 32px;\n",
              "  }\n",
              "\n",
              "  .colab-df-quickchart:hover {\n",
              "    background-color: var(--hover-bg-color);\n",
              "    box-shadow: 0 1px 2px rgba(60, 64, 67, 0.3), 0 1px 3px 1px rgba(60, 64, 67, 0.15);\n",
              "    fill: var(--button-hover-fill-color);\n",
              "  }\n",
              "\n",
              "  .colab-df-quickchart-complete:disabled,\n",
              "  .colab-df-quickchart-complete:disabled:hover {\n",
              "    background-color: var(--disabled-bg-color);\n",
              "    fill: var(--disabled-fill-color);\n",
              "    box-shadow: none;\n",
              "  }\n",
              "\n",
              "  .colab-df-spinner {\n",
              "    border: 2px solid var(--fill-color);\n",
              "    border-color: transparent;\n",
              "    border-bottom-color: var(--fill-color);\n",
              "    animation:\n",
              "      spin 1s steps(1) infinite;\n",
              "  }\n",
              "\n",
              "  @keyframes spin {\n",
              "    0% {\n",
              "      border-color: transparent;\n",
              "      border-bottom-color: var(--fill-color);\n",
              "      border-left-color: var(--fill-color);\n",
              "    }\n",
              "    20% {\n",
              "      border-color: transparent;\n",
              "      border-left-color: var(--fill-color);\n",
              "      border-top-color: var(--fill-color);\n",
              "    }\n",
              "    30% {\n",
              "      border-color: transparent;\n",
              "      border-left-color: var(--fill-color);\n",
              "      border-top-color: var(--fill-color);\n",
              "      border-right-color: var(--fill-color);\n",
              "    }\n",
              "    40% {\n",
              "      border-color: transparent;\n",
              "      border-right-color: var(--fill-color);\n",
              "      border-top-color: var(--fill-color);\n",
              "    }\n",
              "    60% {\n",
              "      border-color: transparent;\n",
              "      border-right-color: var(--fill-color);\n",
              "    }\n",
              "    80% {\n",
              "      border-color: transparent;\n",
              "      border-right-color: var(--fill-color);\n",
              "      border-bottom-color: var(--fill-color);\n",
              "    }\n",
              "    90% {\n",
              "      border-color: transparent;\n",
              "      border-bottom-color: var(--fill-color);\n",
              "    }\n",
              "  }\n",
              "</style>\n",
              "\n",
              "      <script>\n",
              "        async function quickchart(key) {\n",
              "          const quickchartButtonEl =\n",
              "            document.querySelector('#' + key + ' button');\n",
              "          quickchartButtonEl.disabled = true;  // To prevent multiple clicks.\n",
              "          quickchartButtonEl.classList.add('colab-df-spinner');\n",
              "          try {\n",
              "            const charts = await google.colab.kernel.invokeFunction(\n",
              "                'suggestCharts', [key], {});\n",
              "          } catch (error) {\n",
              "            console.error('Error during call to suggestCharts:', error);\n",
              "          }\n",
              "          quickchartButtonEl.classList.remove('colab-df-spinner');\n",
              "          quickchartButtonEl.classList.add('colab-df-quickchart-complete');\n",
              "        }\n",
              "        (() => {\n",
              "          let quickchartButtonEl =\n",
              "            document.querySelector('#df-9f8ded88-1ec1-4dbe-aab6-7f7455c1e769 button');\n",
              "          quickchartButtonEl.style.display =\n",
              "            google.colab.kernel.accessAllowed ? 'block' : 'none';\n",
              "        })();\n",
              "      </script>\n",
              "    </div>\n",
              "\n",
              "    </div>\n",
              "  </div>\n"
            ],
            "text/plain": [
              "       Year                     Model Name  \\\n",
              "16408  2004              '34 Ford Delivery   \n",
              "22090  2013              '70 Toyota Celica   \n",
              "20348  2016                2009 Ford F-150   \n",
              "22864  2019          '17 Ford F-150 Raptor   \n",
              "21387  2014  File:2011DodgeDemonCarded.jpg   \n",
              "11391  1994                      MAN Truck   \n",
              "874    1969                 Custom Charger   \n",
              "18213  2007      '70 Mustang Mach 1 (1:50)   \n",
              "17771  2012                       Cool-One   \n",
              "18487  2022                    Bone Shaker   \n",
              "\n",
              "                                        Series  \\\n",
              "16408        Larry Wood's 35th Anniversary Set   \n",
              "22090                    HW City: Street Power   \n",
              "20348                        Hot Trucks 5-Pack   \n",
              "22864            Car Culture: Desert Rally 4/5   \n",
              "21387                  HW Workshop: Heat Fleet   \n",
              "11391                                Auto-City   \n",
              "874                                 Hot Wheels   \n",
              "18213  G-Machines: Street Legal (Series 2) 4/5   \n",
              "17771                       HW Code Cars 20/22   \n",
              "18487                      HW Dream Garage 4/5   \n",
              "\n",
              "                                     Color     Window Color Interior Color  \\\n",
              "16408                               Orange            Clear          Black   \n",
              "22090                Metalflake Dark Green       Black Tint          Black   \n",
              "20348                              Magenta  Tinted (Yellow)         Chrome   \n",
              "22864                     Metalflake Black       Smoke tint          Black   \n",
              "21387                    Metalflake Orange            Clear          Black   \n",
              "11391                                  Red            Clear          Black   \n",
              "874    Spectraflame Creamy 'Lavender' Pink            Clear            N/A   \n",
              "18213                            Dark Blue              N/A            N/A   \n",
              "17771                       Metallic Olive  Tinted (Yellow)          Green   \n",
              "18487                                ZAMAC              N/A         Chrome   \n",
              "\n",
              "        Country Country (Normalized) Country Code  \n",
              "16408     China                China          CHN  \n",
              "22090  Malaysia             Malaysia          MYS  \n",
              "20348  Malaysia             Malaysia          MYS  \n",
              "22864  Thailand             Thailand          THA  \n",
              "21387  Malaysia             Malaysia          MYS  \n",
              "11391     China                China          CHN  \n",
              "874         USA                  USA          USA  \n",
              "18213     China                China          CHN  \n",
              "17771  Malaysia             Malaysia          MYS  \n",
              "18487  Malaysia             Malaysia          MYS  "
            ]
          },
          "execution_count": 35,
          "metadata": {},
          "output_type": "execute_result"
        }
      ],
      "source": [
        "df.sample(10)"
      ]
    },
    {
      "cell_type": "code",
      "execution_count": 32,
      "metadata": {
        "id": "-T-LskPejHie"
      },
      "outputs": [],
      "source": [
        "# Save the result as \"processedPhase2.csv\"\n",
        "df.to_csv(\"./processedPhase2.csv\", index=False)"
      ]
    }
  ],
  "metadata": {
    "colab": {
      "provenance": []
    },
    "kernelspec": {
      "display_name": "Python 3",
      "name": "python3"
    },
    "language_info": {
      "codemirror_mode": {
        "name": "ipython",
        "version": 3
      },
      "file_extension": ".py",
      "mimetype": "text/x-python",
      "name": "python",
      "nbconvert_exporter": "python",
      "pygments_lexer": "ipython3",
      "version": "3.11.1"
    }
  },
  "nbformat": 4,
  "nbformat_minor": 0
}
